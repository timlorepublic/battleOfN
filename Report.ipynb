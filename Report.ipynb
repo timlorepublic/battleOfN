{
 "cells": [
  {
   "cell_type": "markdown",
   "metadata": {},
   "source": [
    "## Analyzing Positive Cases of Covid-19 in Ontario, Canada and The Relation with Municipal Characteristics"
   ]
  },
  {
   "cell_type": "markdown",
   "metadata": {},
   "source": [
    "### 1. Introduction"
   ]
  },
  {
   "cell_type": "markdown",
   "metadata": {},
   "source": [
    "#### 1.1. Idea\n",
    "Covid-19 virus spreads globally, affecting most, if not all, countries in the world. Canada is also one of the country affected by Covid-19. Based on recent data, Canada has 40,190 positive cases (https://www.worldometers.info/coronavirus/country/canada/). \n",
    "\n",
    "This project will focus on the analysis of positive cases in the province of Ontario. In Ontario province alone, based on the data retrieved on 22nd April 2020, there were 12,245 positive cases. This corresponds to approximately 30% of the total case.  \n",
    "\n",
    "The main idea is to analyze the region's characteristic in Ontario by using Foursquare location data which may contribute to the Covid-19 spread.\n",
    "\n",
    "#### 1.2. Interest\n",
    "Some countries in the world are quite successful in containing the Covid-19 spread, and unfortunately some are not. \n",
    "\n",
    "Among the countries which are quite successful at the moment, they implement an aggresive measure by closing some public gathering places, requesting their citizen to do social distancing, limiting people mobility and also closing the borders. \n",
    "\n",
    "Based on the broad topic, the goal of the project here is to help relevant stakeholders in Ontario by finding out which region's characteristic has bigger impact and whether social distancing measure really helps in limiting the spread"
   ]
  },
  {
   "cell_type": "markdown",
   "metadata": {},
   "source": [
    "### 2. Data"
   ]
  },
  {
   "cell_type": "markdown",
   "metadata": {},
   "source": [
    "#### 2.1. List of municipality in Ontario\n",
    "The data was scraped from Wikipedia site: https://en.wikipedia.org/wiki/List_of_municipalities_in_Ontario. \n",
    "\n",
    "The original data was pre-processed so that only the features of interest were taken. \n",
    "\n",
    "The features are:\n",
    "- Municipal name\n",
    "- Population\n",
    "- Area\n",
    "- Density\n",
    "\n",
    "For the purpose of the project, we only look at single-tier Municipality and lower-tier Municipality so that the information can be lined up with the Covid-19 data.\n",
    "\n",
    "In total there are 414 Municipal in Ontario. For simplicity, the data would be sorted by the population number, and only the top 20 municipal would be selected\n",
    "\n",
    "Additionally, all municipal which already has Covid-19 case would be merged together with the top 20 of most populated municipal\n"
   ]
  },
  {
   "cell_type": "markdown",
   "metadata": {},
   "source": [
    "#### 2.2. Positive Cases in Ontario\n",
    "The data was downloaded from publicly available data in https://data.ontario.ca/dataset/confirmed-positive-cases-of-covid-19-in-ontario.\n",
    "\n",
    "It contains all positive cases information in Ontario.\n",
    "\n",
    "Only the following features were selected for the analysis:\n",
    "- Case ID and date\n",
    "- The location where the case was reported\n",
    "- Case acquisition information, this means how the person got infected (after contact tracing done by the public health authority)"
   ]
  },
  {
   "cell_type": "markdown",
   "metadata": {},
   "source": [
    "#### 2.3. Foursquare Location\n",
    "The data of top 50 venues in the municipal was retrieved using Foursquare API\n",
    "\n",
    "Using the Coursera assignment as the base, the municipal characteristics were analyzed"
   ]
  },
  {
   "cell_type": "code",
   "execution_count": null,
   "metadata": {},
   "outputs": [],
   "source": []
  }
 ],
 "metadata": {
  "kernelspec": {
   "display_name": "Python 3.8.2 64-bit ('one': conda)",
   "language": "python",
   "name": "python38264bitoneconda9f95e205f8de4dfea1900e98072e8fbf"
  },
  "language_info": {
   "codemirror_mode": {
    "name": "ipython",
    "version": 3
   },
   "file_extension": ".py",
   "mimetype": "text/x-python",
   "name": "python",
   "nbconvert_exporter": "python",
   "pygments_lexer": "ipython3",
   "version": "3.8.2"
  }
 },
 "nbformat": 4,
 "nbformat_minor": 4
}
